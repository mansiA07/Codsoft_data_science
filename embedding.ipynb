{
 "cells": [
  {
   "cell_type": "code",
   "execution_count": 26,
   "id": "771b1d46",
   "metadata": {},
   "outputs": [],
   "source": [
    "from tensorflow.keras.preprocessing.text import one_hot"
   ]
  },
  {
   "cell_type": "code",
   "execution_count": 27,
   "id": "bb250d2f",
   "metadata": {},
   "outputs": [],
   "source": [
    "### sentences\n",
    "sent=[  'the glass of milk',\n",
    "     'the glass of juice',\n",
    "     'the cup of tea',\n",
    "    'I am a good boy',\n",
    "     'I am a good developer',\n",
    "     'understand the meaning of words',\n",
    "     'your videos are good',]"
   ]
  },
  {
   "cell_type": "code",
   "execution_count": 28,
   "id": "b0028dff",
   "metadata": {},
   "outputs": [
    {
     "data": {
      "text/plain": [
       "['the glass of milk',\n",
       " 'the glass of juice',\n",
       " 'the cup of tea',\n",
       " 'I am a good boy',\n",
       " 'I am a good developer',\n",
       " 'understand the meaning of words',\n",
       " 'your videos are good']"
      ]
     },
     "execution_count": 28,
     "metadata": {},
     "output_type": "execute_result"
    }
   ],
   "source": [
    "sent"
   ]
  },
  {
   "cell_type": "code",
   "execution_count": 29,
   "id": "ca093129",
   "metadata": {},
   "outputs": [],
   "source": [
    "## define vocabulary size\n",
    "vocab_size=10000"
   ]
  },
  {
   "cell_type": "code",
   "execution_count": 30,
   "id": "c907a938",
   "metadata": {},
   "outputs": [
    {
     "data": {
      "text/plain": [
       "[[7833, 745, 4242, 8162],\n",
       " [7833, 745, 4242, 6419],\n",
       " [7833, 3589, 4242, 1057],\n",
       " [9318, 5060, 5266, 7430, 5370],\n",
       " [9318, 5060, 5266, 7430, 6421],\n",
       " [6029, 7833, 4122, 4242, 8104],\n",
       " [6895, 5088, 5151, 7430]]"
      ]
     },
     "execution_count": 30,
     "metadata": {},
     "output_type": "execute_result"
    }
   ],
   "source": [
    "## one hot representation\n",
    "one_hot_rep=[one_hot(words,vocab_size) for words in sent]\n",
    "one_hot_rep\n"
   ]
  },
  {
   "cell_type": "code",
   "execution_count": 31,
   "id": "8c3a00d6",
   "metadata": {},
   "outputs": [],
   "source": [
    "##word embedding representation\n",
    "from tensorflow.keras.layers import Embedding\n",
    "from tensorflow.keras.utils import pad_sequences\n",
    "from tensorflow.keras.models import Sequential"
   ]
  },
  {
   "cell_type": "code",
   "execution_count": 32,
   "id": "e6a3042a",
   "metadata": {},
   "outputs": [],
   "source": [
    "import numpy as np\n"
   ]
  },
  {
   "cell_type": "code",
   "execution_count": 33,
   "id": "4ffa0abc",
   "metadata": {},
   "outputs": [],
   "source": [
    "sent_length=8\n",
    "\n",
    "embedded_docs=pad_sequences(one_hot_rep,padding='pre',maxlen=sent_length)"
   ]
  },
  {
   "cell_type": "code",
   "execution_count": 34,
   "id": "9023a92a",
   "metadata": {},
   "outputs": [
    {
     "data": {
      "text/plain": [
       "array([[   0,    0,    0,    0, 7833,  745, 4242, 8162],\n",
       "       [   0,    0,    0,    0, 7833,  745, 4242, 6419],\n",
       "       [   0,    0,    0,    0, 7833, 3589, 4242, 1057],\n",
       "       [   0,    0,    0, 9318, 5060, 5266, 7430, 5370],\n",
       "       [   0,    0,    0, 9318, 5060, 5266, 7430, 6421],\n",
       "       [   0,    0,    0, 6029, 7833, 4122, 4242, 8104],\n",
       "       [   0,    0,    0,    0, 6895, 5088, 5151, 7430]])"
      ]
     },
     "execution_count": 34,
     "metadata": {},
     "output_type": "execute_result"
    }
   ],
   "source": [
    "embedded_docs"
   ]
  },
  {
   "cell_type": "code",
   "execution_count": 35,
   "id": "4d329633",
   "metadata": {},
   "outputs": [],
   "source": [
    "## feature representation\n",
    "\n",
    "dim=10\n"
   ]
  },
  {
   "cell_type": "code",
   "execution_count": null,
   "id": "da0a6218",
   "metadata": {},
   "outputs": [],
   "source": [
    "model = Sequential()\n",
    "model.add(Embedding(input_dim=vocab_size, output_dim=dim, input_length=sent_length))\n",
    "model.build(input_shape=(None, sent_length))\n",
    "model.summary()\n"
   ]
  },
  {
   "cell_type": "code",
   "execution_count": 40,
   "id": "de8415bc",
   "metadata": {},
   "outputs": [
    {
     "data": {
      "text/html": [
       "<pre style=\"white-space:pre;overflow-x:auto;line-height:normal;font-family:Menlo,'DejaVu Sans Mono',consolas,'Courier New',monospace\"><span style=\"font-weight: bold\">Model: \"sequential_7\"</span>\n",
       "</pre>\n"
      ],
      "text/plain": [
       "\u001b[1mModel: \"sequential_7\"\u001b[0m\n"
      ]
     },
     "metadata": {},
     "output_type": "display_data"
    },
    {
     "data": {
      "text/html": [
       "<pre style=\"white-space:pre;overflow-x:auto;line-height:normal;font-family:Menlo,'DejaVu Sans Mono',consolas,'Courier New',monospace\">┏━━━━━━━━━━━━━━━━━━━━━━━━━━━━━━━━━┳━━━━━━━━━━━━━━━━━━━━━━━━┳━━━━━━━━━━━━━━━┓\n",
       "┃<span style=\"font-weight: bold\"> Layer (type)                    </span>┃<span style=\"font-weight: bold\"> Output Shape           </span>┃<span style=\"font-weight: bold\">       Param # </span>┃\n",
       "┡━━━━━━━━━━━━━━━━━━━━━━━━━━━━━━━━━╇━━━━━━━━━━━━━━━━━━━━━━━━╇━━━━━━━━━━━━━━━┩\n",
       "│ embedding_5 (<span style=\"color: #0087ff; text-decoration-color: #0087ff\">Embedding</span>)         │ ?                      │   <span style=\"color: #00af00; text-decoration-color: #00af00\">0</span> (unbuilt) │\n",
       "└─────────────────────────────────┴────────────────────────┴───────────────┘\n",
       "</pre>\n"
      ],
      "text/plain": [
       "┏━━━━━━━━━━━━━━━━━━━━━━━━━━━━━━━━━┳━━━━━━━━━━━━━━━━━━━━━━━━┳━━━━━━━━━━━━━━━┓\n",
       "┃\u001b[1m \u001b[0m\u001b[1mLayer (type)                   \u001b[0m\u001b[1m \u001b[0m┃\u001b[1m \u001b[0m\u001b[1mOutput Shape          \u001b[0m\u001b[1m \u001b[0m┃\u001b[1m \u001b[0m\u001b[1m      Param #\u001b[0m\u001b[1m \u001b[0m┃\n",
       "┡━━━━━━━━━━━━━━━━━━━━━━━━━━━━━━━━━╇━━━━━━━━━━━━━━━━━━━━━━━━╇━━━━━━━━━━━━━━━┩\n",
       "│ embedding_5 (\u001b[38;5;33mEmbedding\u001b[0m)         │ ?                      │   \u001b[38;5;34m0\u001b[0m (unbuilt) │\n",
       "└─────────────────────────────────┴────────────────────────┴───────────────┘\n"
      ]
     },
     "metadata": {},
     "output_type": "display_data"
    },
    {
     "data": {
      "text/html": [
       "<pre style=\"white-space:pre;overflow-x:auto;line-height:normal;font-family:Menlo,'DejaVu Sans Mono',consolas,'Courier New',monospace\"><span style=\"font-weight: bold\"> Total params: </span><span style=\"color: #00af00; text-decoration-color: #00af00\">0</span> (0.00 B)\n",
       "</pre>\n"
      ],
      "text/plain": [
       "\u001b[1m Total params: \u001b[0m\u001b[38;5;34m0\u001b[0m (0.00 B)\n"
      ]
     },
     "metadata": {},
     "output_type": "display_data"
    },
    {
     "data": {
      "text/html": [
       "<pre style=\"white-space:pre;overflow-x:auto;line-height:normal;font-family:Menlo,'DejaVu Sans Mono',consolas,'Courier New',monospace\"><span style=\"font-weight: bold\"> Trainable params: </span><span style=\"color: #00af00; text-decoration-color: #00af00\">0</span> (0.00 B)\n",
       "</pre>\n"
      ],
      "text/plain": [
       "\u001b[1m Trainable params: \u001b[0m\u001b[38;5;34m0\u001b[0m (0.00 B)\n"
      ]
     },
     "metadata": {},
     "output_type": "display_data"
    },
    {
     "data": {
      "text/html": [
       "<pre style=\"white-space:pre;overflow-x:auto;line-height:normal;font-family:Menlo,'DejaVu Sans Mono',consolas,'Courier New',monospace\"><span style=\"font-weight: bold\"> Non-trainable params: </span><span style=\"color: #00af00; text-decoration-color: #00af00\">0</span> (0.00 B)\n",
       "</pre>\n"
      ],
      "text/plain": [
       "\u001b[1m Non-trainable params: \u001b[0m\u001b[38;5;34m0\u001b[0m (0.00 B)\n"
      ]
     },
     "metadata": {},
     "output_type": "display_data"
    }
   ],
   "source": [
    "model.summary()"
   ]
  },
  {
   "cell_type": "code",
   "execution_count": 45,
   "id": "89232a29",
   "metadata": {},
   "outputs": [
    {
     "name": "stderr",
     "output_type": "stream",
     "text": [
      "c:\\Users\\NC\\AppData\\Local\\Programs\\Python\\Python310\\lib\\site-packages\\keras\\src\\layers\\core\\embedding.py:97: UserWarning: Argument `input_length` is deprecated. Just remove it.\n",
      "  warnings.warn(\n"
     ]
    },
    {
     "data": {
      "text/html": [
       "<pre style=\"white-space:pre;overflow-x:auto;line-height:normal;font-family:Menlo,'DejaVu Sans Mono',consolas,'Courier New',monospace\"><span style=\"font-weight: bold\">Model: \"sequential_11\"</span>\n",
       "</pre>\n"
      ],
      "text/plain": [
       "\u001b[1mModel: \"sequential_11\"\u001b[0m\n"
      ]
     },
     "metadata": {},
     "output_type": "display_data"
    },
    {
     "data": {
      "text/html": [
       "<pre style=\"white-space:pre;overflow-x:auto;line-height:normal;font-family:Menlo,'DejaVu Sans Mono',consolas,'Courier New',monospace\">┏━━━━━━━━━━━━━━━━━━━━━━━━━━━━━━━━━┳━━━━━━━━━━━━━━━━━━━━━━━━┳━━━━━━━━━━━━━━━┓\n",
       "┃<span style=\"font-weight: bold\"> Layer (type)                    </span>┃<span style=\"font-weight: bold\"> Output Shape           </span>┃<span style=\"font-weight: bold\">       Param # </span>┃\n",
       "┡━━━━━━━━━━━━━━━━━━━━━━━━━━━━━━━━━╇━━━━━━━━━━━━━━━━━━━━━━━━╇━━━━━━━━━━━━━━━┩\n",
       "│ embedding_9 (<span style=\"color: #0087ff; text-decoration-color: #0087ff\">Embedding</span>)         │ (<span style=\"color: #00d7ff; text-decoration-color: #00d7ff\">None</span>, <span style=\"color: #00af00; text-decoration-color: #00af00\">8</span>, <span style=\"color: #00af00; text-decoration-color: #00af00\">10</span>)          │       <span style=\"color: #00af00; text-decoration-color: #00af00\">100,000</span> │\n",
       "└─────────────────────────────────┴────────────────────────┴───────────────┘\n",
       "</pre>\n"
      ],
      "text/plain": [
       "┏━━━━━━━━━━━━━━━━━━━━━━━━━━━━━━━━━┳━━━━━━━━━━━━━━━━━━━━━━━━┳━━━━━━━━━━━━━━━┓\n",
       "┃\u001b[1m \u001b[0m\u001b[1mLayer (type)                   \u001b[0m\u001b[1m \u001b[0m┃\u001b[1m \u001b[0m\u001b[1mOutput Shape          \u001b[0m\u001b[1m \u001b[0m┃\u001b[1m \u001b[0m\u001b[1m      Param #\u001b[0m\u001b[1m \u001b[0m┃\n",
       "┡━━━━━━━━━━━━━━━━━━━━━━━━━━━━━━━━━╇━━━━━━━━━━━━━━━━━━━━━━━━╇━━━━━━━━━━━━━━━┩\n",
       "│ embedding_9 (\u001b[38;5;33mEmbedding\u001b[0m)         │ (\u001b[38;5;45mNone\u001b[0m, \u001b[38;5;34m8\u001b[0m, \u001b[38;5;34m10\u001b[0m)          │       \u001b[38;5;34m100,000\u001b[0m │\n",
       "└─────────────────────────────────┴────────────────────────┴───────────────┘\n"
      ]
     },
     "metadata": {},
     "output_type": "display_data"
    },
    {
     "data": {
      "text/html": [
       "<pre style=\"white-space:pre;overflow-x:auto;line-height:normal;font-family:Menlo,'DejaVu Sans Mono',consolas,'Courier New',monospace\"><span style=\"font-weight: bold\"> Total params: </span><span style=\"color: #00af00; text-decoration-color: #00af00\">100,000</span> (390.62 KB)\n",
       "</pre>\n"
      ],
      "text/plain": [
       "\u001b[1m Total params: \u001b[0m\u001b[38;5;34m100,000\u001b[0m (390.62 KB)\n"
      ]
     },
     "metadata": {},
     "output_type": "display_data"
    },
    {
     "data": {
      "text/html": [
       "<pre style=\"white-space:pre;overflow-x:auto;line-height:normal;font-family:Menlo,'DejaVu Sans Mono',consolas,'Courier New',monospace\"><span style=\"font-weight: bold\"> Trainable params: </span><span style=\"color: #00af00; text-decoration-color: #00af00\">100,000</span> (390.62 KB)\n",
       "</pre>\n"
      ],
      "text/plain": [
       "\u001b[1m Trainable params: \u001b[0m\u001b[38;5;34m100,000\u001b[0m (390.62 KB)\n"
      ]
     },
     "metadata": {},
     "output_type": "display_data"
    },
    {
     "data": {
      "text/html": [
       "<pre style=\"white-space:pre;overflow-x:auto;line-height:normal;font-family:Menlo,'DejaVu Sans Mono',consolas,'Courier New',monospace\"><span style=\"font-weight: bold\"> Non-trainable params: </span><span style=\"color: #00af00; text-decoration-color: #00af00\">0</span> (0.00 B)\n",
       "</pre>\n"
      ],
      "text/plain": [
       "\u001b[1m Non-trainable params: \u001b[0m\u001b[38;5;34m0\u001b[0m (0.00 B)\n"
      ]
     },
     "metadata": {},
     "output_type": "display_data"
    }
   ],
   "source": [
    "from tensorflow.keras.models import Sequential\n",
    "from tensorflow.keras.layers import Embedding\n",
    "\n",
    "vocab_size = 10000\n",
    "dim = 10\n",
    "sent_length = 8\n",
    "\n",
    "model = Sequential()\n",
    "model.add(Embedding(input_dim=vocab_size, output_dim=dim, input_length=sent_length))\n",
    "model.build(input_shape=(None, sent_length))\n",
    "model.compile('adam','mse')\n",
    "model.summary()\n"
   ]
  },
  {
   "cell_type": "code",
   "execution_count": 46,
   "id": "d60c323f",
   "metadata": {},
   "outputs": [
    {
     "name": "stdout",
     "output_type": "stream",
     "text": [
      "\u001b[1m1/1\u001b[0m \u001b[32m━━━━━━━━━━━━━━━━━━━━\u001b[0m\u001b[37m\u001b[0m \u001b[1m0s\u001b[0m 174ms/step\n"
     ]
    },
    {
     "data": {
      "text/plain": [
       "array([[[ 0.01841854, -0.04178381, -0.00220338,  0.04067088,\n",
       "          0.02775148,  0.00437544,  0.00622413, -0.03522176,\n",
       "         -0.02424306, -0.04520604],\n",
       "        [ 0.01841854, -0.04178381, -0.00220338,  0.04067088,\n",
       "          0.02775148,  0.00437544,  0.00622413, -0.03522176,\n",
       "         -0.02424306, -0.04520604],\n",
       "        [ 0.01841854, -0.04178381, -0.00220338,  0.04067088,\n",
       "          0.02775148,  0.00437544,  0.00622413, -0.03522176,\n",
       "         -0.02424306, -0.04520604],\n",
       "        [ 0.01841854, -0.04178381, -0.00220338,  0.04067088,\n",
       "          0.02775148,  0.00437544,  0.00622413, -0.03522176,\n",
       "         -0.02424306, -0.04520604],\n",
       "        [-0.01354762,  0.00636254, -0.00744263, -0.03404863,\n",
       "          0.00432605, -0.0407563 , -0.03802007, -0.01451633,\n",
       "         -0.03150243,  0.0301577 ],\n",
       "        [ 0.03292215, -0.04036641,  0.04836898, -0.04460472,\n",
       "         -0.00961936,  0.02055278,  0.02227094,  0.02555141,\n",
       "         -0.01059035,  0.00839521],\n",
       "        [ 0.01278932,  0.04784798,  0.0479435 , -0.00300239,\n",
       "         -0.0220529 ,  0.04396078, -0.03169104,  0.0370975 ,\n",
       "          0.02353581, -0.03016288],\n",
       "        [ 0.03129255, -0.03447043, -0.002946  , -0.04649098,\n",
       "         -0.03837068,  0.02513648,  0.04598394, -0.03707882,\n",
       "          0.02633026, -0.02824583]],\n",
       "\n",
       "       [[ 0.01841854, -0.04178381, -0.00220338,  0.04067088,\n",
       "          0.02775148,  0.00437544,  0.00622413, -0.03522176,\n",
       "         -0.02424306, -0.04520604],\n",
       "        [ 0.01841854, -0.04178381, -0.00220338,  0.04067088,\n",
       "          0.02775148,  0.00437544,  0.00622413, -0.03522176,\n",
       "         -0.02424306, -0.04520604],\n",
       "        [ 0.01841854, -0.04178381, -0.00220338,  0.04067088,\n",
       "          0.02775148,  0.00437544,  0.00622413, -0.03522176,\n",
       "         -0.02424306, -0.04520604],\n",
       "        [ 0.01841854, -0.04178381, -0.00220338,  0.04067088,\n",
       "          0.02775148,  0.00437544,  0.00622413, -0.03522176,\n",
       "         -0.02424306, -0.04520604],\n",
       "        [-0.01354762,  0.00636254, -0.00744263, -0.03404863,\n",
       "          0.00432605, -0.0407563 , -0.03802007, -0.01451633,\n",
       "         -0.03150243,  0.0301577 ],\n",
       "        [ 0.03292215, -0.04036641,  0.04836898, -0.04460472,\n",
       "         -0.00961936,  0.02055278,  0.02227094,  0.02555141,\n",
       "         -0.01059035,  0.00839521],\n",
       "        [ 0.01278932,  0.04784798,  0.0479435 , -0.00300239,\n",
       "         -0.0220529 ,  0.04396078, -0.03169104,  0.0370975 ,\n",
       "          0.02353581, -0.03016288],\n",
       "        [ 0.03508179,  0.02828826,  0.03186817,  0.01430072,\n",
       "         -0.01470337,  0.01144891, -0.04095509,  0.04035468,\n",
       "         -0.03849471, -0.0136801 ]],\n",
       "\n",
       "       [[ 0.01841854, -0.04178381, -0.00220338,  0.04067088,\n",
       "          0.02775148,  0.00437544,  0.00622413, -0.03522176,\n",
       "         -0.02424306, -0.04520604],\n",
       "        [ 0.01841854, -0.04178381, -0.00220338,  0.04067088,\n",
       "          0.02775148,  0.00437544,  0.00622413, -0.03522176,\n",
       "         -0.02424306, -0.04520604],\n",
       "        [ 0.01841854, -0.04178381, -0.00220338,  0.04067088,\n",
       "          0.02775148,  0.00437544,  0.00622413, -0.03522176,\n",
       "         -0.02424306, -0.04520604],\n",
       "        [ 0.01841854, -0.04178381, -0.00220338,  0.04067088,\n",
       "          0.02775148,  0.00437544,  0.00622413, -0.03522176,\n",
       "         -0.02424306, -0.04520604],\n",
       "        [-0.01354762,  0.00636254, -0.00744263, -0.03404863,\n",
       "          0.00432605, -0.0407563 , -0.03802007, -0.01451633,\n",
       "         -0.03150243,  0.0301577 ],\n",
       "        [ 0.04753419,  0.03921164, -0.00842966,  0.00429349,\n",
       "          0.02179077,  0.04549419, -0.04286635, -0.01409835,\n",
       "          0.01318197,  0.03069732],\n",
       "        [ 0.01278932,  0.04784798,  0.0479435 , -0.00300239,\n",
       "         -0.0220529 ,  0.04396078, -0.03169104,  0.0370975 ,\n",
       "          0.02353581, -0.03016288],\n",
       "        [-0.0241995 ,  0.007899  , -0.04425876,  0.042921  ,\n",
       "          0.01667053,  0.01544812,  0.03779603,  0.00545556,\n",
       "         -0.01349763,  0.04755867]],\n",
       "\n",
       "       [[ 0.01841854, -0.04178381, -0.00220338,  0.04067088,\n",
       "          0.02775148,  0.00437544,  0.00622413, -0.03522176,\n",
       "         -0.02424306, -0.04520604],\n",
       "        [ 0.01841854, -0.04178381, -0.00220338,  0.04067088,\n",
       "          0.02775148,  0.00437544,  0.00622413, -0.03522176,\n",
       "         -0.02424306, -0.04520604],\n",
       "        [ 0.01841854, -0.04178381, -0.00220338,  0.04067088,\n",
       "          0.02775148,  0.00437544,  0.00622413, -0.03522176,\n",
       "         -0.02424306, -0.04520604],\n",
       "        [ 0.04171269, -0.01642883, -0.03727814, -0.01317688,\n",
       "          0.03162677, -0.00757422,  0.04875742, -0.00285681,\n",
       "         -0.025104  ,  0.04543665],\n",
       "        [ 0.02533792,  0.0011498 ,  0.00693219, -0.03047168,\n",
       "         -0.03209515, -0.02093078, -0.04134042, -0.02616696,\n",
       "          0.00997771,  0.01749488],\n",
       "        [-0.00421662, -0.0407151 , -0.03603787,  0.00931326,\n",
       "          0.01187287,  0.03076284, -0.02767505,  0.03359612,\n",
       "          0.02701383, -0.04537743],\n",
       "        [-0.02917055,  0.00432122,  0.04037232, -0.01934874,\n",
       "          0.0253226 ,  0.04300794, -0.03451239,  0.03272224,\n",
       "          0.01543719,  0.04861568],\n",
       "        [ 0.02080123,  0.02666006,  0.0252054 ,  0.03364272,\n",
       "         -0.04483923, -0.04228305,  0.02150878,  0.04193083,\n",
       "          0.04525913,  0.03144287]],\n",
       "\n",
       "       [[ 0.01841854, -0.04178381, -0.00220338,  0.04067088,\n",
       "          0.02775148,  0.00437544,  0.00622413, -0.03522176,\n",
       "         -0.02424306, -0.04520604],\n",
       "        [ 0.01841854, -0.04178381, -0.00220338,  0.04067088,\n",
       "          0.02775148,  0.00437544,  0.00622413, -0.03522176,\n",
       "         -0.02424306, -0.04520604],\n",
       "        [ 0.01841854, -0.04178381, -0.00220338,  0.04067088,\n",
       "          0.02775148,  0.00437544,  0.00622413, -0.03522176,\n",
       "         -0.02424306, -0.04520604],\n",
       "        [ 0.04171269, -0.01642883, -0.03727814, -0.01317688,\n",
       "          0.03162677, -0.00757422,  0.04875742, -0.00285681,\n",
       "         -0.025104  ,  0.04543665],\n",
       "        [ 0.02533792,  0.0011498 ,  0.00693219, -0.03047168,\n",
       "         -0.03209515, -0.02093078, -0.04134042, -0.02616696,\n",
       "          0.00997771,  0.01749488],\n",
       "        [-0.00421662, -0.0407151 , -0.03603787,  0.00931326,\n",
       "          0.01187287,  0.03076284, -0.02767505,  0.03359612,\n",
       "          0.02701383, -0.04537743],\n",
       "        [-0.02917055,  0.00432122,  0.04037232, -0.01934874,\n",
       "          0.0253226 ,  0.04300794, -0.03451239,  0.03272224,\n",
       "          0.01543719,  0.04861568],\n",
       "        [ 0.0264812 , -0.04332749,  0.01571311, -0.020123  ,\n",
       "          0.00321094, -0.04894563,  0.03255272, -0.02589306,\n",
       "         -0.00019541,  0.04824677]],\n",
       "\n",
       "       [[ 0.01841854, -0.04178381, -0.00220338,  0.04067088,\n",
       "          0.02775148,  0.00437544,  0.00622413, -0.03522176,\n",
       "         -0.02424306, -0.04520604],\n",
       "        [ 0.01841854, -0.04178381, -0.00220338,  0.04067088,\n",
       "          0.02775148,  0.00437544,  0.00622413, -0.03522176,\n",
       "         -0.02424306, -0.04520604],\n",
       "        [ 0.01841854, -0.04178381, -0.00220338,  0.04067088,\n",
       "          0.02775148,  0.00437544,  0.00622413, -0.03522176,\n",
       "         -0.02424306, -0.04520604],\n",
       "        [-0.0038032 , -0.02990569, -0.03826737, -0.04901266,\n",
       "          0.04669989, -0.0010479 ,  0.001993  ,  0.0145644 ,\n",
       "         -0.03881557,  0.04735935],\n",
       "        [-0.01354762,  0.00636254, -0.00744263, -0.03404863,\n",
       "          0.00432605, -0.0407563 , -0.03802007, -0.01451633,\n",
       "         -0.03150243,  0.0301577 ],\n",
       "        [-0.04031602, -0.02624479, -0.01100434, -0.02568096,\n",
       "          0.00383656,  0.02712134, -0.0473198 , -0.02796605,\n",
       "          0.01386923,  0.02581242],\n",
       "        [ 0.01278932,  0.04784798,  0.0479435 , -0.00300239,\n",
       "         -0.0220529 ,  0.04396078, -0.03169104,  0.0370975 ,\n",
       "          0.02353581, -0.03016288],\n",
       "        [ 0.01576426, -0.03251696, -0.0330729 , -0.02156108,\n",
       "          0.04478581, -0.0353806 , -0.04139758, -0.02725929,\n",
       "          0.01093706,  0.04792098]],\n",
       "\n",
       "       [[ 0.01841854, -0.04178381, -0.00220338,  0.04067088,\n",
       "          0.02775148,  0.00437544,  0.00622413, -0.03522176,\n",
       "         -0.02424306, -0.04520604],\n",
       "        [ 0.01841854, -0.04178381, -0.00220338,  0.04067088,\n",
       "          0.02775148,  0.00437544,  0.00622413, -0.03522176,\n",
       "         -0.02424306, -0.04520604],\n",
       "        [ 0.01841854, -0.04178381, -0.00220338,  0.04067088,\n",
       "          0.02775148,  0.00437544,  0.00622413, -0.03522176,\n",
       "         -0.02424306, -0.04520604],\n",
       "        [ 0.01841854, -0.04178381, -0.00220338,  0.04067088,\n",
       "          0.02775148,  0.00437544,  0.00622413, -0.03522176,\n",
       "         -0.02424306, -0.04520604],\n",
       "        [-0.04351345,  0.03074269, -0.0208787 ,  0.00123896,\n",
       "          0.02710866,  0.01640895,  0.0494159 ,  0.02493329,\n",
       "         -0.02004435,  0.01888398],\n",
       "        [ 0.03872279, -0.0264275 , -0.02889245, -0.04534792,\n",
       "         -0.02590065,  0.02054149,  0.04967363,  0.00761534,\n",
       "          0.02707008, -0.03896122],\n",
       "        [ 0.03108582,  0.04375858,  0.00764582, -0.04718148,\n",
       "         -0.04727209,  0.03684172, -0.0037301 , -0.03555207,\n",
       "         -0.0295992 ,  0.0043154 ],\n",
       "        [-0.02917055,  0.00432122,  0.04037232, -0.01934874,\n",
       "          0.0253226 ,  0.04300794, -0.03451239,  0.03272224,\n",
       "          0.01543719,  0.04861568]]], dtype=float32)"
      ]
     },
     "execution_count": 46,
     "metadata": {},
     "output_type": "execute_result"
    }
   ],
   "source": [
    "model.predict(embedded_docs)"
   ]
  },
  {
   "cell_type": "code",
   "execution_count": null,
   "id": "68f39068",
   "metadata": {},
   "outputs": [],
   "source": []
  }
 ],
 "metadata": {
  "kernelspec": {
   "display_name": "Python 3",
   "language": "python",
   "name": "python3"
  },
  "language_info": {
   "codemirror_mode": {
    "name": "ipython",
    "version": 3
   },
   "file_extension": ".py",
   "mimetype": "text/x-python",
   "name": "python",
   "nbconvert_exporter": "python",
   "pygments_lexer": "ipython3",
   "version": "3.10.11"
  }
 },
 "nbformat": 4,
 "nbformat_minor": 5
}
