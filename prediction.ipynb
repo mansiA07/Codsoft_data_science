{
 "cells": [
  {
   "cell_type": "code",
   "execution_count": 39,
   "id": "59d8c5b6",
   "metadata": {},
   "outputs": [],
   "source": [
    "import numpy as np\n",
    "import tensorflow as tf\n",
    "from tensorflow.keras.datasets import imdb\n",
    "from tensorflow.keras.preprocessing import sequence\n",
    "from tensorflow.keras.models import load_model\n"
   ]
  },
  {
   "cell_type": "code",
   "execution_count": 40,
   "id": "7cd541d4",
   "metadata": {},
   "outputs": [],
   "source": [
    "## load imdb dataset\n",
    "word_index=imdb.get_word_index()\n",
    "reverse_word_index={value:key for key,value in word_index.items()}"
   ]
  },
  {
   "cell_type": "code",
   "execution_count": 41,
   "id": "f39e70c8",
   "metadata": {},
   "outputs": [
    {
     "name": "stderr",
     "output_type": "stream",
     "text": [
      "WARNING:absl:Compiled the loaded model, but the compiled metrics have yet to be built. `model.compile_metrics` will be empty until you train or evaluate the model.\n"
     ]
    },
    {
     "data": {
      "text/html": [
       "<pre style=\"white-space:pre;overflow-x:auto;line-height:normal;font-family:Menlo,'DejaVu Sans Mono',consolas,'Courier New',monospace\"><span style=\"font-weight: bold\">Model: \"sequential_2\"</span>\n",
       "</pre>\n"
      ],
      "text/plain": [
       "\u001b[1mModel: \"sequential_2\"\u001b[0m\n"
      ]
     },
     "metadata": {},
     "output_type": "display_data"
    },
    {
     "data": {
      "text/html": [
       "<pre style=\"white-space:pre;overflow-x:auto;line-height:normal;font-family:Menlo,'DejaVu Sans Mono',consolas,'Courier New',monospace\">┏━━━━━━━━━━━━━━━━━━━━━━━━━━━━━━━━━┳━━━━━━━━━━━━━━━━━━━━━━━━┳━━━━━━━━━━━━━━━┓\n",
       "┃<span style=\"font-weight: bold\"> Layer (type)                    </span>┃<span style=\"font-weight: bold\"> Output Shape           </span>┃<span style=\"font-weight: bold\">       Param # </span>┃\n",
       "┡━━━━━━━━━━━━━━━━━━━━━━━━━━━━━━━━━╇━━━━━━━━━━━━━━━━━━━━━━━━╇━━━━━━━━━━━━━━━┩\n",
       "│ embedding_2 (<span style=\"color: #0087ff; text-decoration-color: #0087ff\">Embedding</span>)         │ (<span style=\"color: #00d7ff; text-decoration-color: #00d7ff\">None</span>, <span style=\"color: #00af00; text-decoration-color: #00af00\">500</span>, <span style=\"color: #00af00; text-decoration-color: #00af00\">128</span>)       │     <span style=\"color: #00af00; text-decoration-color: #00af00\">1,280,000</span> │\n",
       "├─────────────────────────────────┼────────────────────────┼───────────────┤\n",
       "│ simple_rnn_2 (<span style=\"color: #0087ff; text-decoration-color: #0087ff\">SimpleRNN</span>)        │ (<span style=\"color: #00d7ff; text-decoration-color: #00d7ff\">None</span>, <span style=\"color: #00af00; text-decoration-color: #00af00\">128</span>)            │        <span style=\"color: #00af00; text-decoration-color: #00af00\">32,896</span> │\n",
       "├─────────────────────────────────┼────────────────────────┼───────────────┤\n",
       "│ dense_2 (<span style=\"color: #0087ff; text-decoration-color: #0087ff\">Dense</span>)                 │ (<span style=\"color: #00d7ff; text-decoration-color: #00d7ff\">None</span>, <span style=\"color: #00af00; text-decoration-color: #00af00\">1</span>)              │           <span style=\"color: #00af00; text-decoration-color: #00af00\">129</span> │\n",
       "└─────────────────────────────────┴────────────────────────┴───────────────┘\n",
       "</pre>\n"
      ],
      "text/plain": [
       "┏━━━━━━━━━━━━━━━━━━━━━━━━━━━━━━━━━┳━━━━━━━━━━━━━━━━━━━━━━━━┳━━━━━━━━━━━━━━━┓\n",
       "┃\u001b[1m \u001b[0m\u001b[1mLayer (type)                   \u001b[0m\u001b[1m \u001b[0m┃\u001b[1m \u001b[0m\u001b[1mOutput Shape          \u001b[0m\u001b[1m \u001b[0m┃\u001b[1m \u001b[0m\u001b[1m      Param #\u001b[0m\u001b[1m \u001b[0m┃\n",
       "┡━━━━━━━━━━━━━━━━━━━━━━━━━━━━━━━━━╇━━━━━━━━━━━━━━━━━━━━━━━━╇━━━━━━━━━━━━━━━┩\n",
       "│ embedding_2 (\u001b[38;5;33mEmbedding\u001b[0m)         │ (\u001b[38;5;45mNone\u001b[0m, \u001b[38;5;34m500\u001b[0m, \u001b[38;5;34m128\u001b[0m)       │     \u001b[38;5;34m1,280,000\u001b[0m │\n",
       "├─────────────────────────────────┼────────────────────────┼───────────────┤\n",
       "│ simple_rnn_2 (\u001b[38;5;33mSimpleRNN\u001b[0m)        │ (\u001b[38;5;45mNone\u001b[0m, \u001b[38;5;34m128\u001b[0m)            │        \u001b[38;5;34m32,896\u001b[0m │\n",
       "├─────────────────────────────────┼────────────────────────┼───────────────┤\n",
       "│ dense_2 (\u001b[38;5;33mDense\u001b[0m)                 │ (\u001b[38;5;45mNone\u001b[0m, \u001b[38;5;34m1\u001b[0m)              │           \u001b[38;5;34m129\u001b[0m │\n",
       "└─────────────────────────────────┴────────────────────────┴───────────────┘\n"
      ]
     },
     "metadata": {},
     "output_type": "display_data"
    },
    {
     "data": {
      "text/html": [
       "<pre style=\"white-space:pre;overflow-x:auto;line-height:normal;font-family:Menlo,'DejaVu Sans Mono',consolas,'Courier New',monospace\"><span style=\"font-weight: bold\"> Total params: </span><span style=\"color: #00af00; text-decoration-color: #00af00\">1,313,027</span> (5.01 MB)\n",
       "</pre>\n"
      ],
      "text/plain": [
       "\u001b[1m Total params: \u001b[0m\u001b[38;5;34m1,313,027\u001b[0m (5.01 MB)\n"
      ]
     },
     "metadata": {},
     "output_type": "display_data"
    },
    {
     "data": {
      "text/html": [
       "<pre style=\"white-space:pre;overflow-x:auto;line-height:normal;font-family:Menlo,'DejaVu Sans Mono',consolas,'Courier New',monospace\"><span style=\"font-weight: bold\"> Trainable params: </span><span style=\"color: #00af00; text-decoration-color: #00af00\">1,313,025</span> (5.01 MB)\n",
       "</pre>\n"
      ],
      "text/plain": [
       "\u001b[1m Trainable params: \u001b[0m\u001b[38;5;34m1,313,025\u001b[0m (5.01 MB)\n"
      ]
     },
     "metadata": {},
     "output_type": "display_data"
    },
    {
     "data": {
      "text/html": [
       "<pre style=\"white-space:pre;overflow-x:auto;line-height:normal;font-family:Menlo,'DejaVu Sans Mono',consolas,'Courier New',monospace\"><span style=\"font-weight: bold\"> Non-trainable params: </span><span style=\"color: #00af00; text-decoration-color: #00af00\">0</span> (0.00 B)\n",
       "</pre>\n"
      ],
      "text/plain": [
       "\u001b[1m Non-trainable params: \u001b[0m\u001b[38;5;34m0\u001b[0m (0.00 B)\n"
      ]
     },
     "metadata": {},
     "output_type": "display_data"
    },
    {
     "data": {
      "text/html": [
       "<pre style=\"white-space:pre;overflow-x:auto;line-height:normal;font-family:Menlo,'DejaVu Sans Mono',consolas,'Courier New',monospace\"><span style=\"font-weight: bold\"> Optimizer params: </span><span style=\"color: #00af00; text-decoration-color: #00af00\">2</span> (12.00 B)\n",
       "</pre>\n"
      ],
      "text/plain": [
       "\u001b[1m Optimizer params: \u001b[0m\u001b[38;5;34m2\u001b[0m (12.00 B)\n"
      ]
     },
     "metadata": {},
     "output_type": "display_data"
    }
   ],
   "source": [
    "model=load_model('simple_rnn_imdb.h5')\n",
    "model.summary()"
   ]
  },
  {
   "cell_type": "code",
   "execution_count": 42,
   "id": "4ff5d216",
   "metadata": {},
   "outputs": [
    {
     "data": {
      "text/plain": [
       "[array([[ 5.3448385e-01, -7.7558303e-01, -8.6905849e-01, ...,\n",
       "          7.7206242e-01, -8.5648620e-01,  5.4816264e-01],\n",
       "        [-8.2657458e-03,  3.5387345e-02, -3.0740140e-02, ...,\n",
       "         -1.4812652e-02, -3.7603337e-02,  3.2259680e-02],\n",
       "        [-1.9433657e-02, -1.3054987e-02,  4.5455680e-03, ...,\n",
       "          1.1326174e-02, -6.5984748e-02, -6.4117260e-02],\n",
       "        ...,\n",
       "        [-4.8922632e-02, -9.3888008e-04, -5.1920500e-02, ...,\n",
       "          3.0257939e-03,  4.7908619e-04,  3.5402883e-02],\n",
       "        [ 9.2006572e-02, -1.0528574e-01,  2.2236474e-02, ...,\n",
       "          4.5601569e-02, -3.8827138e-03, -1.9691974e-02],\n",
       "        [-6.2052701e-03,  2.1775052e-02, -2.5451686e-02, ...,\n",
       "         -4.6120785e-02,  3.1069776e-02, -4.4702638e-02]], dtype=float32),\n",
       " array([[-0.10688198,  0.0935166 ,  0.12172939, ..., -0.12503983,\n",
       "         -0.03185039, -0.05996789],\n",
       "        [-0.04718362,  0.1079616 ,  0.00771922, ...,  0.13691509,\n",
       "          0.10117536, -0.05874364],\n",
       "        [-0.14760378, -0.01658366,  0.14969115, ...,  0.08667108,\n",
       "         -0.04338805,  0.12014644],\n",
       "        ...,\n",
       "        [-0.113022  ,  0.13913298, -0.16119227, ...,  0.1297366 ,\n",
       "         -0.12266122,  0.05415768],\n",
       "        [ 0.06614223,  0.03316625,  0.09020564, ...,  0.13810384,\n",
       "          0.03957146,  0.03106339],\n",
       "        [-0.06414021,  0.1238813 , -0.1330247 , ...,  0.02113575,\n",
       "         -0.0788377 , -0.04592599]], dtype=float32),\n",
       " array([[-2.5569025e-02,  2.9483828e-01, -8.4929384e-02, ...,\n",
       "          1.7988307e-02, -1.1114529e-02, -1.6176360e-02],\n",
       "        [ 2.2263372e-01, -2.1959621e-02,  4.5236839e-06, ...,\n",
       "         -8.0542983e-03, -7.9967082e-02, -6.1781012e-02],\n",
       "        [ 4.1273538e-02, -3.4267183e-02,  6.4027019e-02, ...,\n",
       "         -2.1398364e-01, -1.1956704e-01,  2.2362875e-02],\n",
       "        ...,\n",
       "        [-9.9755086e-02,  4.9766254e-02,  1.5455806e-01, ...,\n",
       "          6.2740728e-02, -6.5463208e-02, -5.9801947e-02],\n",
       "        [ 1.7913295e-01,  1.3807360e-02, -2.9669529e-02, ...,\n",
       "          9.6176580e-02,  5.7387542e-02, -2.2041854e-02],\n",
       "        [-5.9107892e-02, -1.7004730e-01, -3.4891512e-02, ...,\n",
       "         -1.3933094e-01, -5.7033570e-03, -2.1914643e-01]], dtype=float32),\n",
       " array([-6.60610851e-03, -1.06700696e-02,  1.76280569e-02, -2.26051938e-02,\n",
       "         1.04002450e-02, -4.01854794e-03,  1.85480684e-01,  4.01506247e-03,\n",
       "        -1.72302537e-02, -2.83760391e-02,  1.74305048e-02, -3.76192993e-03,\n",
       "        -1.97998993e-02, -1.75612140e-02,  1.06396936e-02, -1.29309734e-02,\n",
       "        -3.07717733e-03, -2.17968114e-02,  4.21033520e-03,  1.46921156e-02,\n",
       "         1.56871203e-04, -1.57940388e-02, -1.19518694e-02, -1.84273254e-02,\n",
       "         2.12176926e-02, -2.05192324e-02,  9.88902897e-03, -2.13733874e-02,\n",
       "         1.47787752e-02, -3.48183862e-03, -3.98143195e-03,  1.24493195e-02,\n",
       "         1.35259395e-02, -2.66832625e-03, -1.86727569e-02,  4.24386514e-03,\n",
       "         1.34582343e-02, -9.44291987e-03,  3.75957601e-03,  9.38970502e-03,\n",
       "        -1.93531532e-02,  1.78499389e-02,  2.19231043e-02, -2.15259288e-02,\n",
       "         1.36694992e-02,  1.53828161e-02,  3.52524291e-03, -4.28073574e-03,\n",
       "         2.74037570e-03,  1.05640786e-02,  3.73637769e-03, -1.16124132e-03,\n",
       "        -3.88893895e-02, -1.29154567e-02,  1.93994083e-02,  2.12280918e-02,\n",
       "        -7.98585545e-03,  2.21240334e-02,  2.94414517e-02, -8.77790712e-03,\n",
       "         1.07473042e-02, -1.54893789e-02, -4.04579192e-03, -3.89492518e-04,\n",
       "         4.32953145e-03, -1.52005572e-02, -9.24486259e-04,  6.83929056e-06,\n",
       "        -1.52887180e-02,  9.03490931e-03,  3.49036837e-03,  7.51803070e-03,\n",
       "        -2.19836575e-03,  1.70085020e-02,  2.59184986e-02, -4.96154279e-03,\n",
       "         9.95060895e-03,  2.04143301e-02,  2.93369610e-02, -1.45272054e-02,\n",
       "         1.94324423e-02, -2.18735021e-02,  9.63349268e-03, -1.04484875e-02,\n",
       "         3.00545730e-02, -2.78037088e-03, -3.56646329e-02,  1.35549502e-02,\n",
       "         1.77380294e-02, -2.41165627e-02,  1.30089419e-02, -2.39534210e-02,\n",
       "         6.28298474e-03,  2.09304504e-02, -5.93897980e-03,  2.50147227e-02,\n",
       "         1.09749194e-02,  1.64373163e-02,  1.54902581e-02, -1.05540482e-02,\n",
       "         1.86204654e-03, -2.62891650e-02,  3.07327718e-03,  2.92105391e-03,\n",
       "         1.37679521e-02, -1.36715639e-02,  6.79599261e-03, -2.19518449e-02,\n",
       "         5.84081700e-03, -9.78082139e-03, -2.95385532e-02, -2.15027109e-02,\n",
       "         1.38243865e-02, -2.22811662e-03,  5.68949617e-03, -2.05925014e-02,\n",
       "         3.26497178e-03,  5.48456283e-03, -1.71558489e-03, -4.05707881e-02,\n",
       "        -8.37058853e-03,  1.65895503e-02, -6.33049931e-04,  9.98753239e-04,\n",
       "         3.01258697e-04,  1.59223913e-03, -9.36947414e-04, -1.51230283e-02],\n",
       "       dtype=float32),\n",
       " array([[-0.61972356],\n",
       "        [-0.04439254],\n",
       "        [ 0.2400041 ],\n",
       "        [ 0.49854988],\n",
       "        [ 0.24281436],\n",
       "        [-0.1026765 ],\n",
       "        [-0.44000083],\n",
       "        [-0.14469342],\n",
       "        [ 0.17527573],\n",
       "        [-0.05577359],\n",
       "        [-0.09614448],\n",
       "        [-0.13443562],\n",
       "        [-0.16711995],\n",
       "        [ 0.00754142],\n",
       "        [ 0.16309233],\n",
       "        [-0.18378326],\n",
       "        [-0.17934978],\n",
       "        [-0.06586859],\n",
       "        [-0.5549846 ],\n",
       "        [-0.19313088],\n",
       "        [ 0.10111552],\n",
       "        [ 0.26146784],\n",
       "        [-0.2606597 ],\n",
       "        [ 0.41262585],\n",
       "        [-0.6233391 ],\n",
       "        [-0.05759121],\n",
       "        [ 0.43085742],\n",
       "        [ 0.06289104],\n",
       "        [ 0.18923783],\n",
       "        [-0.45194507],\n",
       "        [-0.19933136],\n",
       "        [ 0.07448635],\n",
       "        [ 0.12263086],\n",
       "        [ 0.09797862],\n",
       "        [-0.0520808 ],\n",
       "        [-0.25280076],\n",
       "        [-0.05477936],\n",
       "        [-0.18646777],\n",
       "        [ 0.39168575],\n",
       "        [ 0.15167233],\n",
       "        [-0.13784254],\n",
       "        [ 0.2057042 ],\n",
       "        [ 0.00140684],\n",
       "        [ 0.17760831],\n",
       "        [ 0.21299523],\n",
       "        [ 0.20763068],\n",
       "        [-0.43219864],\n",
       "        [ 0.02065147],\n",
       "        [ 0.03048159],\n",
       "        [ 0.01485903],\n",
       "        [ 0.0098502 ],\n",
       "        [-0.03369968],\n",
       "        [ 0.04104791],\n",
       "        [ 0.18972568],\n",
       "        [-0.07498789],\n",
       "        [ 0.19766153],\n",
       "        [-0.07471747],\n",
       "        [ 0.10306545],\n",
       "        [-0.11401495],\n",
       "        [-0.12016856],\n",
       "        [ 0.24614052],\n",
       "        [ 0.06625611],\n",
       "        [ 0.12129811],\n",
       "        [ 0.05453455],\n",
       "        [ 0.25952262],\n",
       "        [ 0.23000984],\n",
       "        [-0.02307716],\n",
       "        [-0.11882773],\n",
       "        [ 0.02897352],\n",
       "        [-0.21855895],\n",
       "        [-0.3132665 ],\n",
       "        [-0.16804361],\n",
       "        [-0.22185147],\n",
       "        [-0.09721304],\n",
       "        [ 0.22242756],\n",
       "        [-0.45861122],\n",
       "        [-0.05666907],\n",
       "        [ 0.0338616 ],\n",
       "        [-0.02559834],\n",
       "        [-0.22343683],\n",
       "        [ 0.19329084],\n",
       "        [ 0.21697311],\n",
       "        [ 0.15053533],\n",
       "        [ 0.14407432],\n",
       "        [-0.09820857],\n",
       "        [-0.18519472],\n",
       "        [-0.16933152],\n",
       "        [ 0.03585178],\n",
       "        [ 0.19737425],\n",
       "        [ 0.27952853],\n",
       "        [ 0.0869479 ],\n",
       "        [-0.16022466],\n",
       "        [-0.05432899],\n",
       "        [-0.00652469],\n",
       "        [-0.11939977],\n",
       "        [ 0.13659768],\n",
       "        [ 0.08064661],\n",
       "        [ 0.194282  ],\n",
       "        [ 0.20027164],\n",
       "        [-0.0702145 ],\n",
       "        [-0.20804402],\n",
       "        [-0.05514883],\n",
       "        [ 0.06903633],\n",
       "        [ 0.20585448],\n",
       "        [-0.3697291 ],\n",
       "        [-0.02051641],\n",
       "        [ 0.23342253],\n",
       "        [ 0.00304076],\n",
       "        [-0.0976104 ],\n",
       "        [-0.21093981],\n",
       "        [-0.01034299],\n",
       "        [-0.0033565 ],\n",
       "        [ 0.07101723],\n",
       "        [ 0.12129436],\n",
       "        [ 0.19324684],\n",
       "        [ 0.19820957],\n",
       "        [-0.07868811],\n",
       "        [ 0.15493512],\n",
       "        [-0.06481281],\n",
       "        [-0.09554715],\n",
       "        [ 0.22105694],\n",
       "        [ 0.19061874],\n",
       "        [-0.1774888 ],\n",
       "        [-0.20912676],\n",
       "        [-0.32546598],\n",
       "        [ 0.13950008],\n",
       "        [-0.1882496 ],\n",
       "        [-0.0499179 ]], dtype=float32),\n",
       " array([-0.02864373], dtype=float32)]"
      ]
     },
     "execution_count": 42,
     "metadata": {},
     "output_type": "execute_result"
    }
   ],
   "source": [
    "model.get_weights()"
   ]
  },
  {
   "cell_type": "code",
   "execution_count": 43,
   "id": "f9184147",
   "metadata": {},
   "outputs": [],
   "source": [
    "# Step 2: Helper Functions\n",
    "# Function to decode reviews\n",
    "def decode_review(encoded_review):\n",
    "    return ' '.join([reverse_word_index.get(i - 3, '?') for i in encoded_review])\n",
    "\n",
    "# Function to preprocess user input\n",
    "def preprocess_text(text):\n",
    "    words = text.lower().split()\n",
    "    encoded_review = [word_index.get(word, 2) for word in words]\n",
    "    padded_review = sequence.pad_sequences([encoded_review], maxlen=500)\n",
    "    return padded_review"
   ]
  },
  {
   "cell_type": "code",
   "execution_count": 44,
   "id": "2aceb796",
   "metadata": {},
   "outputs": [],
   "source": [
    "### Prediction  function\n",
    "\n",
    "def predict_sentiment(review):\n",
    "    preprocessed_input=preprocess_text(review)\n",
    "\n",
    "    prediction=model.predict(preprocessed_input)\n",
    "\n",
    "    sentiment = 'Positive' if prediction[0][0] > 0.5 else 'Negative'\n",
    "    \n",
    "    return sentiment, float(prediction[0][0])\n",
    "\n"
   ]
  },
  {
   "cell_type": "code",
   "execution_count": 45,
   "id": "ca0d9879",
   "metadata": {},
   "outputs": [
    {
     "name": "stdout",
     "output_type": "stream",
     "text": [
      "\u001b[1m1/1\u001b[0m \u001b[32m━━━━━━━━━━━━━━━━━━━━\u001b[0m\u001b[37m\u001b[0m \u001b[1m0s\u001b[0m 239ms/step\n",
      "Review: This movie was very good  ! \n",
      "Sentiment: Negative\n",
      "Prediction Score: 5.6180790124926716e-05\n"
     ]
    }
   ],
   "source": [
    "# Step 4: User Input and Prediction\n",
    "# Example review for prediction\n",
    "example_review = \"This movie was very good  ! \"\n",
    "\n",
    "sentiment,score=predict_sentiment(example_review)\n",
    "\n",
    "print(f'Review: {example_review}')\n",
    "print(f'Sentiment: {sentiment}')\n",
    "print(f'Prediction Score: {score}')"
   ]
  },
  {
   "cell_type": "code",
   "execution_count": 46,
   "id": "838b1073",
   "metadata": {},
   "outputs": [],
   "source": [
    "# Decode encoded review\n",
    "def decode_review(encoded_review):\n",
    "    return ' '.join([reverse_word_index.get(i - 3, '?') for i in encoded_review])\n",
    "\n",
    "# Preprocess user review\n",
    "def preprocess_text(text):\n",
    "    words = text.lower().split()\n",
    "    encoded_review = [word_index.get(word, 2) for word in words]  # 2 = <UNK>\n",
    "    padded_review = sequence.pad_sequences([encoded_review], maxlen=500)\n",
    "    return padded_review\n",
    "\n",
    "# Predict sentiment\n",
    "def predict_sentiment(review):\n",
    "    preprocessed_input = preprocess_text(review)\n",
    "    prediction = model.predict(preprocessed_input, verbose=0)\n",
    "    sentiment = 'Positive' if prediction[0][0] > 0.5 else 'Negative'\n",
    "    return sentiment, float(prediction[0][0])\n"
   ]
  },
  {
   "cell_type": "code",
   "execution_count": 48,
   "id": "d536fd2c",
   "metadata": {},
   "outputs": [
    {
     "name": "stdout",
     "output_type": "stream",
     "text": [
      "Review: This movie was very good  ! \n",
      "Sentiment: Negative\n",
      "Prediction Score: 5.6180790124926716e-05\n"
     ]
    }
   ],
   "source": [
    "# Step 4: User Input and Prediction\n",
    "# Example review for prediction\n",
    "example_review = \"This movie was very good  ! \"\n",
    "\n",
    "sentiment,score=predict_sentiment(example_review)\n",
    "\n",
    "print(f'Review: {example_review}')\n",
    "print(f'Sentiment: {sentiment}')\n",
    "print(f'Prediction Score: {score}')"
   ]
  },
  {
   "cell_type": "code",
   "execution_count": null,
   "id": "4088c111",
   "metadata": {},
   "outputs": [],
   "source": []
  }
 ],
 "metadata": {
  "kernelspec": {
   "display_name": "Python 3",
   "language": "python",
   "name": "python3"
  },
  "language_info": {
   "codemirror_mode": {
    "name": "ipython",
    "version": 3
   },
   "file_extension": ".py",
   "mimetype": "text/x-python",
   "name": "python",
   "nbconvert_exporter": "python",
   "pygments_lexer": "ipython3",
   "version": "3.10.11"
  }
 },
 "nbformat": 4,
 "nbformat_minor": 5
}
